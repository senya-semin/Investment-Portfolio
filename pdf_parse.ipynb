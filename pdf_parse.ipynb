{
 "cells": [
  {
   "cell_type": "code",
   "execution_count": 9,
   "metadata": {},
   "outputs": [],
   "source": [
    "import os"
   ]
  },
  {
   "cell_type": "code",
   "execution_count": 22,
   "metadata": {},
   "outputs": [],
   "source": [
    "filenames = next(os.walk(\"Исходники\"), (None, None, []))[2]"
   ]
  },
  {
   "cell_type": "code",
   "execution_count": 24,
   "metadata": {},
   "outputs": [],
   "source": [
    "for file in filenames:\n",
    "    name = file.split(\"_\")[1]\n",
    "\n",
    "    new_name = ''\n",
    "    for char in range(len(name)):\n",
    "        if char == 2:\n",
    "            new_name += '.' + name[char]\n",
    "        elif char == 4:\n",
    "            new_name += '.' + '20' + name[char]\n",
    "        else:\n",
    "            new_name += name[char]\n",
    "    os.rename(f'Исходники/{file}', f'Исходники/{new_name}')"
   ]
  }
 ],
 "metadata": {
  "kernelspec": {
   "display_name": "Python 3.8.3 ('base')",
   "language": "python",
   "name": "python3"
  },
  "language_info": {
   "codemirror_mode": {
    "name": "ipython",
    "version": 3
   },
   "file_extension": ".py",
   "mimetype": "text/x-python",
   "name": "python",
   "nbconvert_exporter": "python",
   "pygments_lexer": "ipython3",
   "version": "3.8.3"
  },
  "orig_nbformat": 4,
  "vscode": {
   "interpreter": {
    "hash": "dc7ef97231aa005d014ea67d30809c6adaa9690cdc9d9a9f65966e286d7b0b73"
   }
  }
 },
 "nbformat": 4,
 "nbformat_minor": 2
}
