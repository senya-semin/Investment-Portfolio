{
 "cells": [
  {
   "cell_type": "code",
   "execution_count": 18,
   "metadata": {},
   "outputs": [],
   "source": [
    "from selenium.webdriver import Chrome\n",
    "from webdriver_manager.chrome import ChromeDriverManager\n",
    "from selenium.webdriver.support.ui import Select\n",
    "import time\n",
    "from tqdm import tqdm"
   ]
  },
  {
   "cell_type": "code",
   "execution_count": 22,
   "metadata": {},
   "outputs": [
    {
     "name": "stderr",
     "output_type": "stream",
     "text": [
      "\n",
      "\n",
      "====== WebDriver manager ======\n",
      "Current google-chrome version is 108.0.5359\n",
      "Get LATEST chromedriver version for 108.0.5359 google-chrome\n",
      "Driver [C:\\Users\\fedor\\.wdm\\drivers\\chromedriver\\win32\\108.0.5359.71\\chromedriver.exe] found in cache\n",
      "<ipython-input-22-7739c4fb2c1b>:1: DeprecationWarning: executable_path has been deprecated, please pass in a Service object\n",
      "  driver = Chrome(ChromeDriverManager().install())\n",
      "  0%|          | 0/131 [00:00<?, ?it/s]<ipython-input-22-7739c4fb2c1b>:8: DeprecationWarning: find_element_by_xpath is deprecated. Please use find_element(by=By.XPATH, value=xpath) instead\n",
      "  driver.find_element_by_xpath('//*[@id=\"dataDate\"]').click()\n",
      "<ipython-input-22-7739c4fb2c1b>:10: DeprecationWarning: find_element_by_xpath is deprecated. Please use find_element(by=By.XPATH, value=xpath) instead\n",
      "  driver.find_element_by_xpath('//*[@id=\"ui-datepicker-div\"]/div/a[1]').click()\n",
      "<ipython-input-22-7739c4fb2c1b>:16: DeprecationWarning: find_element_by_xpath is deprecated. Please use find_element(by=By.XPATH, value=xpath) instead\n",
      "  driver.find_element_by_xpath('//*[@id=\"dataDate\"]').click()\n",
      "<ipython-input-22-7739c4fb2c1b>:18: DeprecationWarning: find_element_by_xpath is deprecated. Please use find_element(by=By.XPATH, value=xpath) instead\n",
      "  driver.find_element_by_xpath(f'//*[@id=\"ui-datepicker-div\"]/table/tbody/tr[{week}]/td[{day}]').click()\n",
      "<ipython-input-22-7739c4fb2c1b>:19: DeprecationWarning: find_element_by_xpath is deprecated. Please use find_element(by=By.XPATH, value=xpath) instead\n",
      "  driver.find_element_by_xpath('//*[@id=\"bulletins_calendar\"]/div/button').click()\n",
      "<ipython-input-22-7739c4fb2c1b>:23: DeprecationWarning: find_element_by_xpath is deprecated. Please use find_element(by=By.XPATH, value=xpath) instead\n",
      "  value = driver.find_element_by_xpath(f'//*[@id=\"redesign-2021\"]/div[3]/div[4]/div/div/div[1]/div[2]/div/div/div/div/div/div/div[2]/div/div[2]/div/ul[{link}]/li[2]/a').get_attribute('href')\n",
      "<ipython-input-22-7739c4fb2c1b>:25: DeprecationWarning: find_element_by_xpath is deprecated. Please use find_element(by=By.XPATH, value=xpath) instead\n",
      "  driver.find_element_by_xpath(f'//*[@id=\"redesign-2021\"]/div[3]/div[4]/div/div/div[1]/div[2]/div/div/div/div/div/div/div[2]/div/div[2]/div/ul[{link}]/li[2]/a').click()\n",
      "100%|██████████| 131/131 [4:06:16<00:00, 112.80s/it] \n"
     ]
    }
   ],
   "source": [
    "driver = Chrome(ChromeDriverManager().install())\n",
    "driver.get('https://www.moex.com/ru/marketdata/bulletins/#/date=2022-12-02')\n",
    "\n",
    "periods = 131\n",
    "\n",
    "for period in tqdm(list(range(periods))):\n",
    "    #Выбираем поле с датой\n",
    "    driver.find_element_by_xpath('//*[@id=\"dataDate\"]').click()\n",
    "    #Выбираем прошлый месяц\n",
    "    driver.find_element_by_xpath('//*[@id=\"ui-datepicker-div\"]/div/a[1]').click()\n",
    "\n",
    "    time.sleep(1)\n",
    "    for week in range(1,6+1):\n",
    "        for day in range(1,7+1):\n",
    "            #Выбираем поле с датой\n",
    "            driver.find_element_by_xpath('//*[@id=\"dataDate\"]').click()\n",
    "            try: \n",
    "                driver.find_element_by_xpath(f'//*[@id=\"ui-datepicker-div\"]/table/tbody/tr[{week}]/td[{day}]').click()\n",
    "                driver.find_element_by_xpath('//*[@id=\"bulletins_calendar\"]/div/button').click()\n",
    "                time.sleep(1)\n",
    "                for link in range(20):\n",
    "                    try:\n",
    "                        value = driver.find_element_by_xpath(f'//*[@id=\"redesign-2021\"]/div[3]/div[4]/div/div/div[1]/div[2]/div/div/div/div/div/div/div[2]/div/div[2]/div/ul[{link}]/li[2]/a').get_attribute('href')\n",
    "                        if \"MarketT\" in str(value):\n",
    "                            driver.find_element_by_xpath(f'//*[@id=\"redesign-2021\"]/div[3]/div[4]/div/div/div[1]/div[2]/div/div/div/div/div/div/div[2]/div/div[2]/div/ul[{link}]/li[2]/a').click()\n",
    "                            break\n",
    "                    except:\n",
    "                        continue\n",
    "                time.sleep(2)\n",
    "            except:\n",
    "                continue"
   ]
  }
 ],
 "metadata": {
  "kernelspec": {
   "display_name": "Python 3.8.3 ('base')",
   "language": "python",
   "name": "python3"
  },
  "language_info": {
   "codemirror_mode": {
    "name": "ipython",
    "version": 3
   },
   "file_extension": ".py",
   "mimetype": "text/x-python",
   "name": "python",
   "nbconvert_exporter": "python",
   "pygments_lexer": "ipython3",
   "version": "3.8.3"
  },
  "orig_nbformat": 4,
  "vscode": {
   "interpreter": {
    "hash": "dc7ef97231aa005d014ea67d30809c6adaa9690cdc9d9a9f65966e286d7b0b73"
   }
  }
 },
 "nbformat": 4,
 "nbformat_minor": 2
}
